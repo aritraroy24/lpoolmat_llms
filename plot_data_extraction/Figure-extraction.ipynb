{
 "cells": [
  {
   "cell_type": "code",
   "execution_count": 78,
   "id": "cf58eb1d-966b-4774-9ef4-0372b31dd5f7",
   "metadata": {},
   "outputs": [],
   "source": [
    "import numpy as np\n",
    "import os\n",
    "import fitz\n",
    "import PIL.Image"
   ]
  },
  {
   "cell_type": "code",
   "execution_count": null,
   "id": "5b58c5d2-4f07-4e65-9c1b-8137bd77b625",
   "metadata": {},
   "outputs": [],
   "source": []
  },
  {
   "cell_type": "markdown",
   "id": "03be1f1b-16c5-4552-bc78-1e867c547881",
   "metadata": {},
   "source": [
    "## Extracting images with fitz"
   ]
  },
  {
   "cell_type": "code",
   "execution_count": 108,
   "id": "77f46b9e-5a17-4daa-ad78-d09f833aa00e",
   "metadata": {},
   "outputs": [],
   "source": [
    "file='1-s2.0-S0966979513000241-main (1).pdf'\n",
    "doc=fitz.open(file)"
   ]
  },
  {
   "cell_type": "code",
   "execution_count": 118,
   "id": "cd861a51-01a7-47d5-a292-87848767a51e",
   "metadata": {},
   "outputs": [],
   "source": [
    "def extract_images(doc, page, filename):\n",
    "    imageList = doc[page].get_images()\n",
    "    imgdir='img_'+filename\n",
    "    os.makedirs(imgdir, exist_ok=True)\n",
    "    if imageList:\n",
    "        print(page)\n",
    "        for idx, img in enumerate(imageList, start=1):\n",
    "            print(idx,img)\n",
    "            data = doc.extract_image(img[0])\n",
    "            with PIL.Image.open(io.BytesIO(data.get('image'))) as image:\n",
    "                image.save(f'{imgdir}/{page}-{idx}.{data.get(\"ext\")}',mode='bw',background=\"white\")"
   ]
  },
  {
   "cell_type": "code",
   "execution_count": 124,
   "id": "771e8e50-6f4a-4453-8858-8d11570654b8",
   "metadata": {},
   "outputs": [
    {
     "name": "stdout",
     "output_type": "stream",
     "text": [
      "0\n",
      "1 (602, 0, 80, 62, 8, 'DeviceRGB', '', 'Im1', 'FlateDecode')\n",
      "1\n",
      "1 (74, 0, 95, 74, 8, 'DeviceRGB', '', 'Im3', 'DCTDecode')\n",
      "2 (75, 0, 572, 700, 8, 'DeviceRGB', '', 'Im2', 'DCTDecode')\n",
      "2\n",
      "1 (74, 0, 95, 74, 8, 'DeviceRGB', '', 'Im3', 'DCTDecode')\n",
      "3\n",
      "1 (193, 0, 296, 240, 8, 'DeviceRGB', '', 'Im9', 'DCTDecode')\n",
      "2 (194, 0, 237, 240, 8, 'DeviceRGB', '', 'Im7', 'DCTDecode')\n",
      "3 (195, 0, 46, 44, 8, 'DeviceRGB', '', 'Im8', 'DCTDecode')\n",
      "4 (196, 0, 80, 33, 8, 'Indexed', '', 'Im5', 'FlateDecode')\n",
      "5 (197, 0, 24, 73, 8, 'Indexed', '', 'Im6', 'FlateDecode')\n",
      "6 (74, 0, 95, 74, 8, 'DeviceRGB', '', 'Im3', 'DCTDecode')\n",
      "7 (198, 0, 752, 752, 8, 'DeviceRGB', '', 'Im4', 'FlateDecode')\n",
      "8 (199, 0, 717, 412, 8, 'DeviceRGB', '', 'Im11', 'FlateDecode')\n",
      "9 (200, 0, 53, 55, 8, 'DeviceRGB', '', 'Im10', 'DCTDecode')\n",
      "10 (201, 0, 33, 7, 8, 'DeviceRGB', '', 'Im13', 'FlateDecode')\n",
      "11 (202, 0, 76, 26, 8, 'Indexed', '', 'Im12', 'FlateDecode')\n",
      "4\n",
      "1 (74, 0, 95, 74, 8, 'DeviceRGB', '', 'Im3', 'DCTDecode')\n",
      "5\n",
      "1 (74, 0, 95, 74, 8, 'DeviceRGB', '', 'Im3', 'DCTDecode')\n",
      "6\n",
      "1 (74, 0, 95, 74, 8, 'DeviceRGB', '', 'Im3', 'DCTDecode')\n",
      "2 (308, 0, 1100, 90, 1, 'DeviceGray', '', 'Im14', 'FlateDecode')\n",
      "7\n",
      "1 (74, 0, 95, 74, 8, 'DeviceRGB', '', 'Im3', 'DCTDecode')\n"
     ]
    }
   ],
   "source": [
    "for page in range(doc.page_count):\n",
    "    extract_images(doc, page, file)"
   ]
  },
  {
   "cell_type": "code",
   "execution_count": null,
   "id": "f61507ef-910a-4322-a2d3-5cb241978c90",
   "metadata": {},
   "outputs": [],
   "source": []
  },
  {
   "cell_type": "markdown",
   "id": "8353e272-ad67-4ba0-bdc9-6edf57564423",
   "metadata": {},
   "source": [
    "## Extracting images with pdfreader"
   ]
  },
  {
   "cell_type": "code",
   "execution_count": 131,
   "id": "0ea16899-bd40-4f61-94a2-9ad4d034cc17",
   "metadata": {},
   "outputs": [],
   "source": [
    "from pdfreader import SimplePDFViewer\n",
    "from pdfreader import PDFDocument"
   ]
  },
  {
   "cell_type": "code",
   "execution_count": 135,
   "id": "7a37b63d-6702-4ea0-a36a-51b1b5474ea3",
   "metadata": {},
   "outputs": [],
   "source": [
    "fd = open('s41524-023-00988-8.pdf', \"rb\")\n",
    "doc = PDFDocument(fd)"
   ]
  },
  {
   "cell_type": "code",
   "execution_count": 138,
   "id": "85cb7b14-c426-49ba-a50a-727d02b0f5a2",
   "metadata": {},
   "outputs": [],
   "source": [
    "def extract_images(doc, filename):\n",
    "    counter=0\n",
    "    imgdir='img0_'+filename\n",
    "    os.makedirs(imgdir, exist_ok=True)\n",
    "    for page in doc.pages():\n",
    "        try:\n",
    "            a=page.Resources.XObject.keys()\n",
    "            print(a)\n",
    "            for im in a:\n",
    "               xobj = page.Resources.XObject[im]\n",
    "               pil_image = xobj.to_Pillow()\n",
    "               pil_image.save(imgdir+'/'+str(counter)+\".png\")\n",
    "               counter+=1\n",
    "        except:\n",
    "            pass"
   ]
  },
  {
   "cell_type": "code",
   "execution_count": null,
   "id": "e18e1e85-cfd9-4ace-aa87-20c0f5bab35d",
   "metadata": {},
   "outputs": [],
   "source": []
  },
  {
   "cell_type": "code",
   "execution_count": null,
   "id": "19138d0e-792e-463d-9063-83011bf9eb53",
   "metadata": {},
   "outputs": [],
   "source": []
  },
  {
   "cell_type": "code",
   "execution_count": null,
   "id": "546caaae-02d6-4ab2-942f-eb593951f044",
   "metadata": {},
   "outputs": [],
   "source": []
  },
  {
   "cell_type": "code",
   "execution_count": null,
   "id": "83d2fefc-648e-47f8-827a-1649fe638d48",
   "metadata": {},
   "outputs": [],
   "source": []
  },
  {
   "cell_type": "code",
   "execution_count": null,
   "id": "a54f34cc-e581-465f-9e38-e81752e555fa",
   "metadata": {},
   "outputs": [],
   "source": []
  },
  {
   "cell_type": "code",
   "execution_count": null,
   "id": "fda4767b-54bc-42be-888a-4e8d4d6f2748",
   "metadata": {},
   "outputs": [],
   "source": []
  },
  {
   "cell_type": "code",
   "execution_count": null,
   "id": "3b7465e8-555e-4794-919a-0f5de483e981",
   "metadata": {},
   "outputs": [],
   "source": []
  },
  {
   "cell_type": "code",
   "execution_count": null,
   "id": "2be58a5c-dffb-436f-8aac-420210d967a6",
   "metadata": {},
   "outputs": [],
   "source": []
  },
  {
   "cell_type": "code",
   "execution_count": null,
   "id": "b66261ad-126a-4db3-98f0-98b475f04622",
   "metadata": {},
   "outputs": [],
   "source": []
  },
  {
   "cell_type": "code",
   "execution_count": null,
   "id": "6a063061-115a-49a3-96ac-07d8fdc737dd",
   "metadata": {},
   "outputs": [],
   "source": []
  },
  {
   "cell_type": "code",
   "execution_count": null,
   "id": "ffddd168-5aec-41ca-b2d2-93243f21f230",
   "metadata": {},
   "outputs": [],
   "source": []
  },
  {
   "cell_type": "code",
   "execution_count": null,
   "id": "a5fb533b-a83a-48f7-afc7-ad29e3415199",
   "metadata": {},
   "outputs": [],
   "source": []
  },
  {
   "cell_type": "code",
   "execution_count": 2,
   "id": "6c03cfdc-97bd-443a-a6b8-e8c93aee0394",
   "metadata": {},
   "outputs": [],
   "source": []
  },
  {
   "cell_type": "code",
   "execution_count": null,
   "id": "526f6697-063b-40cf-a688-c0e1b9f28455",
   "metadata": {},
   "outputs": [],
   "source": []
  },
  {
   "cell_type": "code",
   "execution_count": null,
   "id": "b87fed28-9805-44ad-9e90-af93c89e404c",
   "metadata": {},
   "outputs": [],
   "source": []
  },
  {
   "cell_type": "code",
   "execution_count": null,
   "id": "7d87a362-ce67-45f7-b845-1a6be7bf6a8e",
   "metadata": {},
   "outputs": [],
   "source": []
  },
  {
   "cell_type": "code",
   "execution_count": null,
   "id": "78b52ce9-9725-44be-990f-9df3d939d9ee",
   "metadata": {},
   "outputs": [],
   "source": []
  },
  {
   "cell_type": "code",
   "execution_count": null,
   "id": "1c08b1ca-cd60-4549-a828-11f44ca38c0d",
   "metadata": {},
   "outputs": [],
   "source": []
  }
 ],
 "metadata": {
  "kernelspec": {
   "display_name": "Python 3 (ipykernel)",
   "language": "python",
   "name": "python3"
  },
  "language_info": {
   "codemirror_mode": {
    "name": "ipython",
    "version": 3
   },
   "file_extension": ".py",
   "mimetype": "text/x-python",
   "name": "python",
   "nbconvert_exporter": "python",
   "pygments_lexer": "ipython3",
   "version": "3.11.8"
  }
 },
 "nbformat": 4,
 "nbformat_minor": 5
}
